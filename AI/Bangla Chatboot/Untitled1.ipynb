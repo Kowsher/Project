{
 "cells": [
  {
   "cell_type": "code",
   "execution_count": 1,
   "metadata": {},
   "outputs": [],
   "source": [
    "from chatterbot import ChatBot\n",
    "from chatterbot.trainers import ListTrainer\n",
    "import speech_recognition as sr\n",
    "import os\n"
   ]
  },
  {
   "cell_type": "code",
   "execution_count": 5,
   "metadata": {},
   "outputs": [],
   "source": [
    "bot = ChatBot('bot')\n",
    "bot.set_trainer(ListTrainer)\n"
   ]
  },
  {
   "cell_type": "code",
   "execution_count": 3,
   "metadata": {},
   "outputs": [
    {
     "name": "stdout",
     "output_type": "stream",
     "text": [
      "List Trainer: [####################] 100%\n",
      "List Trainer: [####################] 100%\n"
     ]
    }
   ],
   "source": [
    "for files in os.listdir('C:/Users/karigor/Downloads/Compressed\\Bangla-Corpus-master/'):\n",
    "    data = open('C:/Users/karigor/Downloads/Compressed\\Bangla-Corpus-master/' + files, 'r', encoding=\"utf8\").readlines()\n",
    "    bot.train(data)\n"
   ]
  },
  {
   "cell_type": "code",
   "execution_count": null,
   "metadata": {
    "scrolled": true
   },
   "outputs": [
    {
     "name": "stdout",
     "output_type": "stream",
     "text": [
      ".........  :\n",
      "You  : হ্যালো\n",
      "Doly:  হাই\n",
      ".........  :\n",
      "You  : কেমন আছো\n",
      "Doly:  কেমন আছো\n",
      ".........  :\n",
      "You  : টাটা কম দেই সমস্যা\n",
      "Doly:  hi Dolly\n",
      ".........  :\n",
      "You  : না আমি ছিলাম তো এ জন্য ঝামেলা হচ্ছে\n",
      "Doly:  - - আপনার অবস্থান কী\n",
      ".........  :\n",
      "You  : হার্ডলি\n",
      "Doly:  তোমার নাম ডলি\n",
      ".........  :\n",
      "You  : উইদ আপনার সাথে কনভার্সেশন করতেছি\n",
      "Doly:  তোমাকে কে বানিয়েছে\n",
      ".........  :\n",
      "You  : হাইডোলিক\n",
      "Doly:  হ্যালো\n",
      ".........  :\n",
      "Sorry could not recognize what you said\n",
      ".........  :\n",
      "You  : কি খবর\n",
      "Doly:  অনেক ভালো\n",
      ".........  :\n",
      "You  : এত ভালো কেন\n",
      "Doly:  আপনার সাথে কথা বলে\n",
      ".........  :\n",
      "You  : তোমাকে কে তৈরি করেছে\n",
      "Doly:  কারিগর\n",
      ".........  :\n",
      "You  : নোবিপ্রবি\n",
      "Doly:  আমি নোবিপ্রবিতে যেতে চাই কিভাবে যাব\n",
      ".........  :\n",
      "You  : হাইডোলিক\n",
      "Doly:  হ্যালো\n",
      ".........  :\n",
      "You  : আমি যে ভয়েস টা কার্টুন কার্টুন হয়ে যাচ্ছে খুব বাজে গিয়া করতেছে সে জন্য বই নাই\n",
      "Doly:  - আমি আপনার অনুভূতি আঘাত না করতে চান।\n",
      ".........  :\n",
      "You  : আমি এটাকে কিভাবে প্রসেসিং\n",
      "Doly:  - রাগ একটি আবেগ আমি অনুভব করতে পারনা।\n",
      ".........  :\n",
      "You  : মানুষের এক্সপ্রেশন দেনা কতগুলো\n",
      "Doly:  আমাকে বাংলা কম শিখানো হয়েছে ইংলিশে বলবেন\n",
      ".........  :\n",
      "You  : ওই গানটা ভালো করে হচ্ছে না\n",
      "Doly:  hi Dolly\n",
      ".........  :\n",
      "You  : হ্যাঁ হ্যাঁ ইংলিশে ইংলিশে\n",
      "Doly:  হ্যাঁ আছে আমার বোন নেই ভাই আছে\n",
      ".........  :\n",
      "You  : ওকে নদী\n",
      "Doly:  বুবলি\n",
      ".........  :\n",
      "You  : এটা কিন্তু তিতা টা ভালো করে দিয়ে ভালো কাজ করবে\n",
      "Doly:  ওকে নদী\n",
      ".........  :\n",
      "Sorry could not recognize what you said\n",
      ".........  :\n",
      "You  : কিভাবে কাজটা করলাম কি কি প্রসেসিং\n",
      "Doly:  ওই গানটা ভালো করে হচ্ছে না\n",
      ".........  :\n",
      "Sorry could not recognize what you said\n",
      ".........  :\n",
      "Sorry could not recognize what you said\n",
      ".........  :\n",
      "Sorry could not recognize what you said\n",
      ".........  :\n",
      "Sorry could not recognize what you said\n",
      ".........  :\n",
      "Sorry could not recognize what you said\n",
      ".........  :\n",
      "Sorry could not recognize what you said\n",
      ".........  :\n",
      "Sorry could not recognize what you said\n",
      ".........  :\n",
      "Sorry could not recognize what you said\n",
      ".........  :\n",
      "Sorry could not recognize what you said\n",
      ".........  :\n"
     ]
    }
   ],
   "source": [
    "lang='bn-BD'\n",
    "while True:\n",
    "    r = sr.Recognizer()\n",
    "    with sr.Microphone() as source:\n",
    "        r.adjust_for_ambient_noise(source)\n",
    "        print(\".........  :\")\n",
    "        audio = r.listen(source)\n",
    "        try:\n",
    "            message = r.recognize_google(audio, language=lang)\n",
    "            if message==\"ওকে ডলি\":\n",
    "                lang='none'\n",
    "            \n",
    "            \n",
    "            print(\"You  : {}\".format(message))\n",
    "            if  message.strip != 'Bye':\n",
    "        \n",
    "                reply = bot.get_response(message)\n",
    "                print('Doly: ', reply)\n",
    "            if message.strip()=='bye':\n",
    "                print('Doly: Bye')\n",
    "                break\n",
    "           \n",
    "        except:\n",
    "            print(\"Sorry could not recognize what you said\")\n",
    "            \n"
   ]
  },
  {
   "cell_type": "code",
   "execution_count": null,
   "metadata": {},
   "outputs": [],
   "source": []
  },
  {
   "cell_type": "code",
   "execution_count": null,
   "metadata": {},
   "outputs": [],
   "source": []
  }
 ],
 "metadata": {
  "kernelspec": {
   "display_name": "Python 3",
   "language": "python",
   "name": "python3"
  },
  "language_info": {
   "codemirror_mode": {
    "name": "ipython",
    "version": 3
   },
   "file_extension": ".py",
   "mimetype": "text/x-python",
   "name": "python",
   "nbconvert_exporter": "python",
   "pygments_lexer": "ipython3",
   "version": "3.6.6"
  }
 },
 "nbformat": 4,
 "nbformat_minor": 2
}
